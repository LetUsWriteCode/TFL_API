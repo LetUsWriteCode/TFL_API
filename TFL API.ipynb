{
 "cells": [
  {
   "cell_type": "code",
   "execution_count": 1,
   "metadata": {},
   "outputs": [],
   "source": [
    "import requests"
   ]
  },
  {
   "cell_type": "code",
   "execution_count": 2,
   "metadata": {},
   "outputs": [],
   "source": [
    "import json"
   ]
  },
  {
   "cell_type": "code",
   "execution_count": 3,
   "metadata": {},
   "outputs": [],
   "source": [
    "import pprint"
   ]
  },
  {
   "cell_type": "code",
   "execution_count": 4,
   "metadata": {},
   "outputs": [],
   "source": [
    "api = 'https://api.tfl.gov.uk/'"
   ]
  },
  {
   "cell_type": "markdown",
   "metadata": {},
   "source": [
    "# Check The Status of the Lines"
   ]
  },
  {
   "cell_type": "code",
   "execution_count": 5,
   "metadata": {},
   "outputs": [],
   "source": [
    "srvCheck = api+'Line/{ids}/Status'"
   ]
  },
  {
   "cell_type": "code",
   "execution_count": 6,
   "metadata": {},
   "outputs": [],
   "source": [
    "lines = 'circle%2C%20district'"
   ]
  },
  {
   "cell_type": "code",
   "execution_count": 7,
   "metadata": {},
   "outputs": [],
   "source": [
    "apiurl = srvCheck.replace('{ids}',lines)"
   ]
  },
  {
   "cell_type": "code",
   "execution_count": 8,
   "metadata": {},
   "outputs": [
    {
     "name": "stdout",
     "output_type": "stream",
     "text": [
      "https://api.tfl.gov.uk/Line/circle%2C%20district/Status\n"
     ]
    }
   ],
   "source": [
    "print(apiurl)"
   ]
  },
  {
   "cell_type": "code",
   "execution_count": 9,
   "metadata": {},
   "outputs": [],
   "source": [
    "stat = requests.get(apiurl)"
   ]
  },
  {
   "cell_type": "code",
   "execution_count": 10,
   "metadata": {},
   "outputs": [],
   "source": [
    "data = stat.json()"
   ]
  },
  {
   "cell_type": "code",
   "execution_count": 11,
   "metadata": {
    "scrolled": true
   },
   "outputs": [
    {
     "name": "stdout",
     "output_type": "stream",
     "text": [
      "[{'$type': 'Tfl.Api.Presentation.Entities.Line, Tfl.Api.Presentation.Entities',\n",
      "  'created': '2018-09-11T11:54:58.057Z',\n",
      "  'crowding': {'$type': 'Tfl.Api.Presentation.Entities.Crowding, '\n",
      "                        'Tfl.Api.Presentation.Entities'},\n",
      "  'disruptions': [],\n",
      "  'id': 'circle',\n",
      "  'lineStatuses': [{'$type': 'Tfl.Api.Presentation.Entities.LineStatus, '\n",
      "                             'Tfl.Api.Presentation.Entities',\n",
      "                    'created': '0001-01-01T00:00:00',\n",
      "                    'id': 0,\n",
      "                    'statusSeverity': 10,\n",
      "                    'statusSeverityDescription': 'Good Service',\n",
      "                    'validityPeriods': []}],\n",
      "  'modeName': 'tube',\n",
      "  'modified': '2018-09-11T11:54:58.057Z',\n",
      "  'name': 'Circle',\n",
      "  'routeSections': [],\n",
      "  'serviceTypes': [{'$type': 'Tfl.Api.Presentation.Entities.LineServiceTypeInfo, '\n",
      "                             'Tfl.Api.Presentation.Entities',\n",
      "                    'name': 'Regular',\n",
      "                    'uri': '/Line/Route?ids=Circle&serviceTypes=Regular'}]},\n",
      " {'$type': 'Tfl.Api.Presentation.Entities.Line, Tfl.Api.Presentation.Entities',\n",
      "  'created': '2018-09-11T11:54:58.053Z',\n",
      "  'crowding': {'$type': 'Tfl.Api.Presentation.Entities.Crowding, '\n",
      "                        'Tfl.Api.Presentation.Entities'},\n",
      "  'disruptions': [],\n",
      "  'id': 'district',\n",
      "  'lineStatuses': [{'$type': 'Tfl.Api.Presentation.Entities.LineStatus, '\n",
      "                             'Tfl.Api.Presentation.Entities',\n",
      "                    'created': '0001-01-01T00:00:00',\n",
      "                    'id': 0,\n",
      "                    'statusSeverity': 10,\n",
      "                    'statusSeverityDescription': 'Good Service',\n",
      "                    'validityPeriods': []}],\n",
      "  'modeName': 'tube',\n",
      "  'modified': '2018-09-11T11:54:58.053Z',\n",
      "  'name': 'District',\n",
      "  'routeSections': [],\n",
      "  'serviceTypes': [{'$type': 'Tfl.Api.Presentation.Entities.LineServiceTypeInfo, '\n",
      "                             'Tfl.Api.Presentation.Entities',\n",
      "                    'name': 'Regular',\n",
      "                    'uri': '/Line/Route?ids=District&serviceTypes=Regular'}]}]\n"
     ]
    }
   ],
   "source": [
    "pprint.pprint(data)"
   ]
  },
  {
   "cell_type": "code",
   "execution_count": 12,
   "metadata": {},
   "outputs": [
    {
     "name": "stdout",
     "output_type": "stream",
     "text": [
      "Circle - Good Service\n",
      "District - Good Service\n"
     ]
    }
   ],
   "source": [
    "for i in data:\n",
    "    print('{} - {}'.format(i['name'],i['lineStatuses'][0]['statusSeverityDescription']))\n",
    " #   print(i['lineStatuses'][0]['reason'])"
   ]
  },
  {
   "cell_type": "markdown",
   "metadata": {},
   "source": [
    "# Check Arrivals for Bus"
   ]
  },
  {
   "cell_type": "code",
   "execution_count": 13,
   "metadata": {},
   "outputs": [],
   "source": [
    "arrive = 'StopPoint/{StopID}/Arrivals'"
   ]
  },
  {
   "cell_type": "code",
   "execution_count": 14,
   "metadata": {},
   "outputs": [],
   "source": [
    "#Stop BR (Albany Road)\n",
    "stopid = '490003137X'"
   ]
  },
  {
   "cell_type": "code",
   "execution_count": 15,
   "metadata": {},
   "outputs": [],
   "source": [
    "stoArv = arrive.replace('{StopID}',stopid)"
   ]
  },
  {
   "cell_type": "code",
   "execution_count": 16,
   "metadata": {},
   "outputs": [],
   "source": [
    "apiurl = '{}{}'.format(api, stoArv)"
   ]
  },
  {
   "cell_type": "code",
   "execution_count": 17,
   "metadata": {},
   "outputs": [],
   "source": [
    "response = requests.get(apiurl)"
   ]
  },
  {
   "cell_type": "code",
   "execution_count": 18,
   "metadata": {},
   "outputs": [],
   "source": [
    "data = response.json()"
   ]
  },
  {
   "cell_type": "code",
   "execution_count": 19,
   "metadata": {},
   "outputs": [],
   "source": [
    "#Show the url to call (debugging)\n",
    "#print(apiurl)"
   ]
  },
  {
   "cell_type": "code",
   "execution_count": 20,
   "metadata": {},
   "outputs": [
    {
     "name": "stdout",
     "output_type": "stream",
     "text": [
      "65\n",
      "Ealing\n",
      "0.5166666666666667\n",
      "YR59FZE\n",
      "65\n",
      "Ealing\n",
      "16.616666666666667\n",
      "YT09BNK\n",
      "65\n",
      "Ealing\n",
      "27.25\n",
      "YT59SFX\n"
     ]
    }
   ],
   "source": [
    "for i in data:\n",
    "    if i['lineId'] == '65':\n",
    "        print(i['lineId'])\n",
    "        print(i['towards'])\n",
    "        print(i['timeToStation'] / 60)\n",
    "        print(i['vehicleId'])"
   ]
  },
  {
   "cell_type": "markdown",
   "metadata": {},
   "source": [
    "# Random Notes"
   ]
  },
  {
   "cell_type": "code",
   "execution_count": 21,
   "metadata": {},
   "outputs": [],
   "source": [
    "myRoad = 57578"
   ]
  },
  {
   "cell_type": "code",
   "execution_count": null,
   "metadata": {},
   "outputs": [],
   "source": []
  }
 ],
 "metadata": {
  "kernelspec": {
   "display_name": "Python 3",
   "language": "python",
   "name": "python3"
  },
  "language_info": {
   "codemirror_mode": {
    "name": "ipython",
    "version": 3
   },
   "file_extension": ".py",
   "mimetype": "text/x-python",
   "name": "python",
   "nbconvert_exporter": "python",
   "pygments_lexer": "ipython3",
   "version": "3.7.0"
  }
 },
 "nbformat": 4,
 "nbformat_minor": 2
}
