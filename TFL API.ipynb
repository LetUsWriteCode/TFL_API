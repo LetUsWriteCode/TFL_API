{
 "cells": [
  {
   "cell_type": "code",
   "execution_count": 247,
   "metadata": {},
   "outputs": [],
   "source": [
    "import requests"
   ]
  },
  {
   "cell_type": "code",
   "execution_count": 248,
   "metadata": {},
   "outputs": [],
   "source": [
    "import json"
   ]
  },
  {
   "cell_type": "code",
   "execution_count": 249,
   "metadata": {},
   "outputs": [],
   "source": [
    "import pprint"
   ]
  },
  {
   "cell_type": "code",
   "execution_count": 250,
   "metadata": {},
   "outputs": [],
   "source": [
    "api = 'https://api.tfl.gov.uk/'"
   ]
  },
  {
   "cell_type": "markdown",
   "metadata": {},
   "source": [
    "# Check The Status of the Lines"
   ]
  },
  {
   "cell_type": "code",
   "execution_count": 251,
   "metadata": {},
   "outputs": [],
   "source": [
    "srvCheck = api+'Line/{ids}/Status'"
   ]
  },
  {
   "cell_type": "code",
   "execution_count": 252,
   "metadata": {},
   "outputs": [],
   "source": [
    "lines = 'circle%2C%20district'"
   ]
  },
  {
   "cell_type": "code",
   "execution_count": 253,
   "metadata": {},
   "outputs": [],
   "source": [
    "apiurl = srvCheck.replace('{ids}',lines)"
   ]
  },
  {
   "cell_type": "code",
   "execution_count": 254,
   "metadata": {},
   "outputs": [
    {
     "name": "stdout",
     "output_type": "stream",
     "text": [
      "https://api.tfl.gov.uk/Line/circle%2C%20district/Status\n"
     ]
    }
   ],
   "source": [
    "print(apiurl)"
   ]
  },
  {
   "cell_type": "code",
   "execution_count": 255,
   "metadata": {},
   "outputs": [],
   "source": [
    "stat = requests.get(apiurl)"
   ]
  },
  {
   "cell_type": "code",
   "execution_count": 256,
   "metadata": {},
   "outputs": [],
   "source": [
    "data = stat.json()"
   ]
  },
  {
   "cell_type": "code",
   "execution_count": 257,
   "metadata": {
    "scrolled": true
   },
   "outputs": [
    {
     "name": "stdout",
     "output_type": "stream",
     "text": [
      "[{'$type': 'Tfl.Api.Presentation.Entities.Line, Tfl.Api.Presentation.Entities',\n",
      "  'created': '2018-08-29T16:10:24.977Z',\n",
      "  'crowding': {'$type': 'Tfl.Api.Presentation.Entities.Crowding, '\n",
      "                        'Tfl.Api.Presentation.Entities'},\n",
      "  'disruptions': [],\n",
      "  'id': 'circle',\n",
      "  'lineStatuses': [{'$type': 'Tfl.Api.Presentation.Entities.LineStatus, '\n",
      "                             'Tfl.Api.Presentation.Entities',\n",
      "                    'created': '0001-01-01T00:00:00',\n",
      "                    'id': 0,\n",
      "                    'statusSeverity': 10,\n",
      "                    'statusSeverityDescription': 'Good Service',\n",
      "                    'validityPeriods': []}],\n",
      "  'modeName': 'tube',\n",
      "  'modified': '2018-08-29T16:10:24.977Z',\n",
      "  'name': 'Circle',\n",
      "  'routeSections': [],\n",
      "  'serviceTypes': [{'$type': 'Tfl.Api.Presentation.Entities.LineServiceTypeInfo, '\n",
      "                             'Tfl.Api.Presentation.Entities',\n",
      "                    'name': 'Regular',\n",
      "                    'uri': '/Line/Route?ids=Circle&serviceTypes=Regular'}]},\n",
      " {'$type': 'Tfl.Api.Presentation.Entities.Line, Tfl.Api.Presentation.Entities',\n",
      "  'created': '2018-08-29T16:10:24.977Z',\n",
      "  'crowding': {'$type': 'Tfl.Api.Presentation.Entities.Crowding, '\n",
      "                        'Tfl.Api.Presentation.Entities'},\n",
      "  'disruptions': [],\n",
      "  'id': 'district',\n",
      "  'lineStatuses': [{'$type': 'Tfl.Api.Presentation.Entities.LineStatus, '\n",
      "                             'Tfl.Api.Presentation.Entities',\n",
      "                    'created': '0001-01-01T00:00:00',\n",
      "                    'id': 0,\n",
      "                    'statusSeverity': 10,\n",
      "                    'statusSeverityDescription': 'Good Service',\n",
      "                    'validityPeriods': []}],\n",
      "  'modeName': 'tube',\n",
      "  'modified': '2018-08-29T16:10:24.977Z',\n",
      "  'name': 'District',\n",
      "  'routeSections': [],\n",
      "  'serviceTypes': [{'$type': 'Tfl.Api.Presentation.Entities.LineServiceTypeInfo, '\n",
      "                             'Tfl.Api.Presentation.Entities',\n",
      "                    'name': 'Regular',\n",
      "                    'uri': '/Line/Route?ids=District&serviceTypes=Regular'}]}]\n"
     ]
    }
   ],
   "source": [
    "pprint.pprint(data)"
   ]
  },
  {
   "cell_type": "code",
   "execution_count": 258,
   "metadata": {},
   "outputs": [
    {
     "name": "stdout",
     "output_type": "stream",
     "text": [
      "Circle - Good Service\n",
      "District - Good Service\n"
     ]
    }
   ],
   "source": [
    "for i in data:\n",
    "    print('{} - {}'.format(i['name'],i['lineStatuses'][0]['statusSeverityDescription']))\n",
    " #   print(i['lineStatuses'][0]['reason'])"
   ]
  },
  {
   "cell_type": "markdown",
   "metadata": {},
   "source": [
    "# Check Arrivals for Bus"
   ]
  },
  {
   "cell_type": "code",
   "execution_count": 259,
   "metadata": {},
   "outputs": [],
   "source": [
    "arrive = 'StopPoint/{StopID}/Arrivals'"
   ]
  },
  {
   "cell_type": "code",
   "execution_count": 260,
   "metadata": {},
   "outputs": [],
   "source": [
    "#Stop BR (Albany Road)\n",
    "stopid = '490003137X'"
   ]
  },
  {
   "cell_type": "code",
   "execution_count": 261,
   "metadata": {},
   "outputs": [],
   "source": [
    "stoArv = arrive.replace('{StopID}',stopid)"
   ]
  },
  {
   "cell_type": "code",
   "execution_count": 262,
   "metadata": {},
   "outputs": [],
   "source": [
    "apiurl = '{}{}'.format(api, stoArv)"
   ]
  },
  {
   "cell_type": "code",
   "execution_count": 263,
   "metadata": {},
   "outputs": [],
   "source": [
    "response = requests.get(apiurl)"
   ]
  },
  {
   "cell_type": "code",
   "execution_count": 264,
   "metadata": {},
   "outputs": [],
   "source": [
    "data = response.json()"
   ]
  },
  {
   "cell_type": "code",
   "execution_count": 265,
   "metadata": {},
   "outputs": [],
   "source": [
    "#Show the url to call (debugging)\n",
    "#print(apiurl)"
   ]
  },
  {
   "cell_type": "code",
   "execution_count": 266,
   "metadata": {},
   "outputs": [
    {
     "name": "stdout",
     "output_type": "stream",
     "text": [
      "65\n",
      "Ealing\n",
      "11.983333333333333\n",
      "YR59FZC\n",
      "65\n",
      "Ealing\n",
      "2.716666666666667\n",
      "YT09BNN\n"
     ]
    }
   ],
   "source": [
    "for i in data:\n",
    "    if i['lineId'] == '65':\n",
    "        print(i['lineId'])\n",
    "        print(i['towards'])\n",
    "        print(i['timeToStation'] / 60)\n",
    "        print(i['vehicleId'])"
   ]
  },
  {
   "cell_type": "markdown",
   "metadata": {},
   "source": [
    "# Random Notes"
   ]
  },
  {
   "cell_type": "code",
   "execution_count": 267,
   "metadata": {},
   "outputs": [],
   "source": [
    "myRoad = 57578"
   ]
  },
  {
   "cell_type": "code",
   "execution_count": null,
   "metadata": {},
   "outputs": [],
   "source": []
  }
 ],
 "metadata": {
  "kernelspec": {
   "display_name": "Python 3",
   "language": "python",
   "name": "python3"
  },
  "language_info": {
   "codemirror_mode": {
    "name": "ipython",
    "version": 3
   },
   "file_extension": ".py",
   "mimetype": "text/x-python",
   "name": "python",
   "nbconvert_exporter": "python",
   "pygments_lexer": "ipython3",
   "version": "3.7.0"
  }
 },
 "nbformat": 4,
 "nbformat_minor": 2
}
